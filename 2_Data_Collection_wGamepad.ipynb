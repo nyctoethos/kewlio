{
 "cells": [
  {
   "cell_type": "markdown",
   "metadata": {},
   "source": [
    "# 02 - Data Collection with Gamepad\n",
    "Author: George Gorospe, george.gorospe@nmaia.net (updated 1/14/2023)\n",
    "\n",
    "\n",
    "\n",
    "## In this second notebook we'll use the gamepad to control our Jetracer while we collect data.\n",
    "\n",
    "This method is very important and useful because we can use the control input or steering command from the gamepad as our \"label\" for the data. Together, the image and the steering angle produce a data point we can use to train an AI pilot.\n",
    "\n"
   ]
  },
  {
   "cell_type": "code",
   "execution_count": 4,
   "metadata": {},
   "outputs": [
    {
     "name": "stdout",
     "output_type": "stream",
     "text": [
      "GST_ARGUS: Creating output stream\n",
      "CONSUMER: Waiting until producer is connected...\n",
      "GST_ARGUS: Available Sensor modes :\n",
      "GST_ARGUS: 3280 x 2464 FR = 21.000000 fps Duration = 47619048 ; Analog Gain range min 1.000000, max 10.625000; Exposure Range min 13000, max 683709000;\n",
      "\n",
      "GST_ARGUS: 3280 x 1848 FR = 28.000001 fps Duration = 35714284 ; Analog Gain range min 1.000000, max 10.625000; Exposure Range min 13000, max 683709000;\n",
      "\n",
      "GST_ARGUS: 1920 x 1080 FR = 29.999999 fps Duration = 33333334 ; Analog Gain range min 1.000000, max 10.625000; Exposure Range min 13000, max 683709000;\n",
      "\n",
      "GST_ARGUS: 1640 x 1232 FR = 29.999999 fps Duration = 33333334 ; Analog Gain range min 1.000000, max 10.625000; Exposure Range min 13000, max 683709000;\n",
      "\n",
      "GST_ARGUS: 1280 x 720 FR = 59.999999 fps Duration = 16666667 ; Analog Gain range min 1.000000, max 10.625000; Exposure Range min 13000, max 683709000;\n",
      "\n",
      "GST_ARGUS: Running with following settings:\n",
      "   Camera index = 0 \n",
      "   Camera mode  = 4 \n",
      "   Output Stream W = 1280 H = 720 \n",
      "   seconds to Run    = 0 \n",
      "   Frame Rate = 59.999999 \n",
      "GST_ARGUS: Setup Complete, Starting captures for 0 seconds\n",
      "GST_ARGUS: Starting repeat capture requests.\n",
      "CONSUMER: Producer has connected; continuing.\n"
     ]
    },
    {
     "name": "stderr",
     "output_type": "stream",
     "text": [
      "[ WARN:0@0.936] global cap_gstreamer.cpp:1728 open OpenCV | GStreamer warning: Cannot query video position: status=0, value=-1, duration=-1\n"
     ]
    }
   ],
   "source": [
    "# Importing the required libraries\n",
    "# IPython Libraries for display and widgets\n",
    "import traitlets\n",
    "import ipywidgets\n",
    "import ipywidgets.widgets as widgets\n",
    "from ipywidgets import interact, interactive, fixed, interact_manual, Layout\n",
    "from IPython.display import display\n",
    "from ipyfilechooser import FileChooser\n",
    "# Style and Layout\n",
    "from threading import Timer\n",
    "from uuid import uuid1\n",
    "import Gamepad\n",
    "from jetcam.csi_camera import CSICamera\n",
    "\n",
    "\n",
    "# Style and layout\n",
    "istyle = {'description_width': 'initial'}\n",
    "button_layout = Layout( width='350px', height = '36px')\n",
    "\n",
    "# Instantiate the camera\n",
    "from jetcam.utils import bgr8_to_jpeg\n",
    "camera = CSICamera(width=224, height=224)\n",
    "image = camera.read()\n",
    "camera.running = True\n",
    "\n",
    "# Python basic pakcages for image annotation\n",
    "from uuid import uuid1\n",
    "import os\n",
    "import json\n",
    "import glob\n",
    "import datetime\n",
    "import numpy as np\n",
    "import cv2\n",
    "import time\n",
    "from datetime import datetime\n",
    "\n",
    "# Constants\n",
    "steering_cmd = 0.21 \n",
    "throttle_cmd = 0.15\n",
    "reverse_cmd= 0.25\n",
    "throttle_reverse_range = 0.05\n",
    "throttle_forward_range = 0.1\n",
    "\n",
    "steering_label = 0\n",
    "throttle_label = 0\n",
    "steering_bias = -.05 # Center of the image is about 10 pixels from where the steering showes center\n",
    "\n",
    "# As a default all collected datasets will be stored here\n",
    "DATASETS_DIR = \"/home/racer_core/Datasets/\"\n",
    "\n",
    "# Control library\n",
    "from jetracer.nvidia_racecar import NvidiaRacecar\n",
    "\n",
    "# This instance of the NvidiaRacecar() is used to command the car\n",
    "# Later, we'll use car.steering and car.throttle\n",
    "car = NvidiaRacecar()"
   ]
  },
  {
   "cell_type": "markdown",
   "metadata": {},
   "source": [
    "### AI Racer Car Setup\n",
    "\n",
    "Our JetRacer is a robot, a fast robot. Like any robot there are ways to control our JetRacer.\n",
    "We have two primary control inputs for our JetRacer:\n",
    "1. A steering servo signal - used to turn the JetRacer left and right\n",
    "2. A throttle signal - used to move the JetRacer forward or backwards.\n",
    "\n",
    "To determine the correct ranges for these signals, we used the calibration notebook to manually adjust the signals.\n",
    "Now we'll use those ranges for controlling the robot via our gamepad.\n"
   ]
  },
  {
   "cell_type": "code",
   "execution_count": 5,
   "metadata": {},
   "outputs": [],
   "source": [
    "####### Reading Racer Parameters - determined from car setup and calibration notebook\n",
    "\n",
    "file_location = \"/home/racer_core/racer_parameters.json\"\n",
    "with open(file_location, 'r') as file_name:\n",
    "  racer_parameters = json.load(file_name)\n",
    "\n",
    "#### CAR STEERING PARAMETERS\n",
    "steering_center = racer_parameters['steering_center']\n",
    "steering_left_max = racer_parameters['steering_left_max']\n",
    "steering_right_max = racer_parameters['steering_right_max']\n",
    "\n",
    "#### CAR THROTTLE PARAMETERS\n",
    "throttle_forward_start_noise_no_motion = racer_parameters['throttle_forward_start']\n",
    "throttle_reverse_start_noise_no_motion = racer_parameters['throttle_reverse_start']\n",
    "dead_throttle = racer_parameters['dead_throttle'] "
   ]
  },
  {
   "cell_type": "markdown",
   "metadata": {},
   "source": [
    "### Connecting the Xbox Controller and Receiving Inputs\n",
    "Next, we'd like to connect the Xbox Controller or gamepad to our computer so that we can take inputs to be used later for steering and throttle.\n",
    "\n",
    "First, let's make sure our gamepad is connected via bluetooth to the AI Racer's computer."
   ]
  },
  {
   "cell_type": "code",
   "execution_count": null,
   "metadata": {},
   "outputs": [],
   "source": [
    "# Check connected bluetooth devices: you should see \"Xbox Wireless Controller\"\n",
    "!bluetoothctl devices"
   ]
  },
  {
   "cell_type": "markdown",
   "metadata": {},
   "source": [
    "When the gamepad is connected, we can run the following cell to:\n",
    "1. Set gamepad settings - map the buttons on the gamepad to variables in the program\n",
    "2. Initialize gamepad object - load the gamepad software into memory\n",
    "3. Start background update task - start the task to monitor input from the gamepad, this runs in the background\n",
    "4. Create callback functions - instructions for what to do when each button is pressed/sticks moved.\n",
    "5. Link the callback functions to the event handlers - part of the update task responsible for monitoring each button individually.\n",
    "6. Create the elements of the gamepad graphical user interface and display the interface for testing.\n",
    "\n",
    "RESULT: Your gamepad input can now be routed into this notebook."
   ]
  },
  {
   "cell_type": "code",
   "execution_count": 7,
   "metadata": {},
   "outputs": [
    {
     "name": "stdout",
     "output_type": "stream",
     "text": [
      "Gamepad connected\n"
     ]
    },
    {
     "data": {
      "application/vnd.jupyter.widget-view+json": {
       "model_id": "75bfab4cbf2540cbba6bafcdd7649a5f",
       "version_major": 2,
       "version_minor": 0
      },
      "text/plain": [
       "HBox(children=(FloatSlider(value=0.0, description='Steering:', max=1.0, min=-1.0, step=0.01), FloatSlider(valu…"
      ]
     },
     "metadata": {},
     "output_type": "display_data"
    }
   ],
   "source": [
    "# Gamepad settings\n",
    "gamepadType = Gamepad.XboxONE\n",
    "recordButton = 'A'\n",
    "joystickSpeed = 'RAS -Y'\n",
    "joystickSteering = 'LAS -X'\n",
    "pollInterval = 0.05\n",
    "\n",
    "# Connection Check, and initialize gamepad object\n",
    "if Gamepad.available():\n",
    "    print('Gamepad connected')\n",
    "    gamepad = gamepadType() # Initialize gamepad object\n",
    "    # Set Initial state\n",
    "    global running\n",
    "    running = True\n",
    "    speed = 0.0\n",
    "    steering = 0.0\n",
    "    recording = False\n",
    "else:\n",
    "    print('Please connect your gamepad...')\n",
    "    while not Gamepad.available():\n",
    "        time.sleep(1.0)\n",
    "\n",
    "# Start the background updating\n",
    "gamepad.startBackgroundUpdates()\n",
    "\n",
    "# Create some callback functions for single events\n",
    "def recordButtonPressed():\n",
    "    global recording\n",
    "    recording = not recording\n",
    "    if recording == True: \n",
    "        buttonStyle_recording()\n",
    "    else: \n",
    "        buttonStyle_default()\n",
    "    \n",
    "def speedAxisMoved(position):\n",
    "    global speed\n",
    "    gamepad_throttle.value = -position   # Inverted\n",
    "\n",
    "def steeringAxisMoved(position):\n",
    "    global steering\n",
    "    gamepad_steering.value = position # Non-inverted \n",
    "    \n",
    "def buttonStyle_recording():\n",
    "    recordButton_widget.description = \"RECORDING\"\n",
    "    recordButton_widget.button_style = 'danger'\n",
    "\n",
    "def buttonStyle_default():\n",
    "    recordButton_widget.description = \"waiting\"\n",
    "    recordButton_widget.button_style = ''\n",
    "\n",
    "# Linking callback functions to event handlers\n",
    "gamepad.addButtonPressedHandler(recordButton, recordButtonPressed)\n",
    "gamepad.addAxisMovedHandler(joystickSpeed, speedAxisMoved)\n",
    "gamepad.addAxisMovedHandler(joystickSteering, steeringAxisMoved)\n",
    "\n",
    "# Gamepad graphical user interface\n",
    "gamepad_throttle = widgets.FloatSlider(value=0,min=-1,max=1,step= 0.01,description='Throttle:',disabled=False,continuous_update=True,orientation='vertical',readout=True,readout_format='.2f',)\n",
    "gamepad_steering = widgets.FloatSlider(value=0,min=-1,max=1.0,step=0.01,description='Steering:',disabled=False,continuous_update=True,orientation='horizontal',readout=True,readout_format='.2f',)\n",
    "recordButton_widget = widgets.ToggleButton(value=False, description='waiting', disabled=False, button_style='',)\n",
    "controller_gui = widgets.HBox([gamepad_steering, gamepad_throttle, recordButton_widget])\n",
    "display(controller_gui)"
   ]
  },
  {
   "attachments": {
    "fe1bc81b-cbee-4818-bc78-b1f5339a9e60.png": {
     "image/png": "[encoded data removed]"
    }
   },
   "cell_type": "markdown",
   "metadata": {
    "execution": {
     "iopub.execute_input": "2024-01-15T04:56:46.371127Z",
     "iopub.status.busy": "2024-01-15T04:56:46.370024Z",
     "iopub.status.idle": "2024-01-15T04:56:46.507331Z",
     "shell.execute_reply": "2024-01-15T04:56:46.505017Z",
     "shell.execute_reply.started": "2024-01-15T04:56:46.371043Z"
    }
   },
   "source": [
    "![Controller.png](attachment:fe1bc81b-cbee-4818-bc78-b1f5339a9e60.png)"
   ]
  },
  {
   "cell_type": "markdown",
   "metadata": {},
   "source": [
    "## **** When you run the next cell the gamepad will have full control of the robot, so be careful here! ****"
   ]
  },
  {
   "cell_type": "code",
   "execution_count": 8,
   "metadata": {},
   "outputs": [
    {
     "data": {
      "application/vnd.jupyter.widget-view+json": {
       "model_id": "4faf2d6331a942309da58a5c2c3a3c9c",
       "version_major": 2,
       "version_minor": 0
      },
      "text/plain": [
       "VBox(children=(HBox(children=(BoundedFloatText(value=0.0, description='Steering Input:', max=1.0, min=-1.0, st…"
      ]
     },
     "metadata": {},
     "output_type": "display_data"
    }
   ],
   "source": [
    "#### Preparing Graphical User Interface for Data Collection with Gamepad\n",
    "\n",
    "# Required Calculations from Steering Parameters\n",
    "right_steering_range = abs(steering_right_max - steering_center)\n",
    "left_steering_range = abs(steering_left_max - steering_center)\n",
    "steering_range = right_steering_range + left_steering_range\n",
    "max_steering_range = max([right_steering_range, left_steering_range])\n",
    "\n",
    "\n",
    "# Required Calculations from Steering Parameters\n",
    "right_steering_range = abs(steering_right_max - steering_center)\n",
    "left_steering_range = abs(steering_left_max - steering_center)\n",
    "steering_range = right_steering_range + left_steering_range\n",
    "max_steering_range = max([right_steering_range, left_steering_range])\n",
    "\n",
    "# Setup of Gamepad to Robot graphic user interface (GUI)\n",
    "# 1. Create the graphic indicators to show gamepad input and commanded output\n",
    "# 2. Create callback functions and connect them to the controller inputs so they activate when the controller is used\n",
    "# 3. Create a display for gamepad indicators and output indicators\n",
    "\n",
    "###### 1. Creating graphic indicators for both the input and output\n",
    "\n",
    "################ GAMEPAD INDICATORS #####################\n",
    "# Creating lots of graphical indicators for gamepad input and vehicle command output\n",
    "\n",
    "# Float Text Box representation of steering input from gamepad\n",
    "gamepad_steering = widgets.BoundedFloatText(\n",
    "    value=0, min=-1, max=1.0, step=0.1, description='Steering Input:', disabled=False, style=istyle)\n",
    "\n",
    "# Slider representation of steering input\n",
    "gamepad_steering_vis = widgets.FloatSlider(\n",
    "    value=0, min=-1.0, max=1, step=0.01, description='Steering Output:', disabled=False,\n",
    "    continuous_update=True, orientation='horizontal', readout=True, readout_format='.2f', style=istyle)\n",
    "\n",
    "# Text box for steering command to vehicle (DATA LABEL)\n",
    "data_label_textbox = widgets.BoundedIntText(\n",
    "    value=0, min=0, max=224, step=0.1, description='Data_Label:', disabled=False)\n",
    "\n",
    "# Float Text Box representation of throttle command from gamepad\n",
    "gamepad_throttle = widgets.BoundedFloatText(\n",
    "    value=0, min=-1, max=1.0, step=0.1, description='Throttle Input:', disabled=False, style=istyle)\n",
    "\n",
    "# Slider representation of throttle command\n",
    "gamepad_throttle_vis = widgets.FloatSlider(\n",
    "    value=0, min=-.5, max=.5, step=0.001, description='Throttle Output:', disabled=False,\n",
    "    continuous_update=True, orientation='horizontal', readout=True, readout_format='.2f', style=istyle)\n",
    "\n",
    "# Text box for throttle command to vehicle\n",
    "throttle_cmd_textbox = widgets.BoundedFloatText(\n",
    "    value=0, min=-1.0, max=1.0, step=0.1, description='TH_CMD:', disabled=False)\n",
    "\n",
    "# Float Text Box representation of reverse command from gamepad\n",
    "gamepad_reverse = widgets.BoundedFloatText(\n",
    "    value=0, min=0.0, max=1.0, step=0.1, description='Reverse Input:', disabled=False, style=istyle)\n",
    "\n",
    "# Slider representation of reverse command\n",
    "gamepad_reverse_vis = widgets.FloatSlider(\n",
    "    value=0, min=0.0, max=1.0, step=0.01, description='Reverse Output:', disabled=False,\n",
    "    continuous_update=True, orientation='horizontal', readout=True, readout_format='.2f', style=istyle)\n",
    "\n",
    "# Text box for reverse command to vehicle\n",
    "reverse_cmd_textbox = widgets.BoundedFloatText(\n",
    "    value=0, min=0.0, max=1.0, step=0.1, description='REV_CMD:', disabled=False)\n",
    "\n",
    "### These two indicators are for the final GUI\n",
    "# Slider representation of image label\n",
    "label_vis = widgets.FloatSlider(\n",
    "    value=0, min=0.0, max=224, step=0.001, description='Label Viz:', disabled=False,\n",
    "    continuous_update=True, orientation='horizontal', readout=True, readout_format='.2f')\n",
    "steering_cmd_vis = widgets.BoundedFloatText(\n",
    "    value=0, min=0.0, max=224.0, step=0.1, description='ST_CMD_Vis', disabled=False)\n",
    "\n",
    "\n",
    "\n",
    "# Linking widgets: l1 links the controller and the textbox, and l2 links the textbox and slider\n",
    "# TODO use vehicle parameter constants\n",
    "#l1 = traitlets.dlink((controller.axes[0], 'value'), (gamepad_steering, 'value'))\n",
    "l2 = traitlets.dlink((gamepad_steering, 'value'), (gamepad_steering_vis, 'value'), transform=lambda x: -x * max_steering_range + steering_center)\n",
    "\n",
    "# Connecting the controller output to the label of the data collected\n",
    "# Controller is [-1, 1], desired label output is [0, 224], lambda function for x is (x+1)*112\n",
    "d1 = traitlets.dlink((gamepad_steering, 'value'), (data_label_textbox, 'value'), transform=lambda x: (x+1)*112)\n",
    "\n",
    "#l3 = traitlets.dlink((controller.axes[3], 'value'), (gamepad_throttle, 'value'))\n",
    "l4 = traitlets.dlink((gamepad_throttle, 'value'), (gamepad_throttle_vis, 'value'), transform=lambda x: x/7 + throttle_forward_start_noise_no_motion)\n",
    "#ll = traitlets.dlink((gamepad_throttle_vis, 'value'), (throttle_cmd_textbox,'value)'))\n",
    "\n",
    "#l5 = traitlets.dlink((controller.buttons[7], 'value'), (gamepad_reverse, 'value'))\n",
    "l6 = traitlets.dlink((gamepad_reverse, 'value'), (gamepad_reverse_vis, 'value'), transform=lambda x: x/20 + throttle_reverse_start_noise_no_motion)\n",
    "\n",
    "# Creating observers and callback functions to processs the gamepad input values and produce vehcile control commands\n",
    "\n",
    "# Callback function executes when gamepad's throttle is changed, 'change' is a dictionary containing the 'old' and 'new' values\n",
    "def throttle_command(change):\n",
    "    global throttle_cmd\n",
    "    throttle_cmd = change.owner.value # The new value received from the gamepad (float)\n",
    "    car.throttle = throttle_cmd\n",
    "    #vehicle_command(-0.17, throttle_input)\n",
    "\n",
    "# Callback function executes when gamepad's steering value is changed, 'change' is a dictionary containing the 'old' and 'new' values\n",
    "def steering_command(change): # (-1.00000, 1.00000)\n",
    "    global steering_cmd, steering_label\n",
    "    steering_raw = change.owner.value\n",
    "    steering_cmd = round(steering_raw,2) # The new value received from the gamepad (float) (-)\n",
    "    # Consider changing to omit steering_cmd from calculation\n",
    "    #steering_label_OLD = round(abs((steering_cmd - steering_left_max - steering_bias)/(steering_range+steering_bias)*224))\n",
    "    #steering_label = round(abs((change.owner.value+1)*112))\n",
    "    #data_label_textbox.value = steering_label\n",
    "    car.steering = steering_cmd\n",
    "\n",
    "# Callback function executes when gamepad's reverse button value is changed, 'change' is a dictionary containing the 'old' and 'new' values\n",
    "def reverse_command(change):\n",
    "        global reverse_cmd\n",
    "        reverse_cmd = round(change.owner.value,2) # The new value received from the gamepad (float)\n",
    "        car.throttle = reverse_cmd\n",
    "    # Mapping and command\n",
    "    #with output: print(\"Reverse command:\" + str(reverse_cmd))\n",
    "    \n",
    "\n",
    "# Observers, when values change, they call our callback functions\n",
    "Obs_1 = gamepad_steering_vis.observe(steering_command, 'value')\n",
    "obs_2 = gamepad_throttle_vis.observe(throttle_command, 'value')\n",
    "Obs_3 = gamepad_reverse_vis.observe(reverse_command, 'value')\n",
    "\n",
    "# Display Elements, show input values and commanded values\n",
    "\n",
    "steering_display = widgets.HBox([gamepad_steering, gamepad_steering_vis, data_label_textbox])\n",
    "throttle_display = widgets.HBox([gamepad_throttle, gamepad_throttle_vis])\n",
    "reverse_display = widgets.HBox([gamepad_reverse, gamepad_reverse_vis])\n",
    "display(widgets.VBox([steering_display, throttle_display, reverse_display]))"
   ]
  },
  {
   "cell_type": "markdown",
   "metadata": {},
   "source": [
    "The graphical user interface shows the raw input values from the gamepad. Next to the raw inputs are the mapped values for the output of the computer to the robot chasis. Finally the data label is displayed."
   ]
  },
  {
   "cell_type": "markdown",
   "metadata": {},
   "source": [
    "### Select a name for your new dataset\n",
    "\n",
    "Use the text box to create a name for your new dataset. Try to be descriptive! (No spaces or special characters)\n",
    "If the folder specified by the user already exists, we'll notify the user.\n",
    "\n",
    "In this case the name will be representative of the full dataset inside. So if you're collecting data at a school, \"school\" is a good choice.\n",
    "Or if you're collecting during daytime, \"school_daytime\" can be a good, representative folder name.\n",
    "\n",
    "The folder name is very important in this case because the actual data file names will be automatically generated later, so we want the folder name to be very descriptive. \n",
    "\n",
    "NOTE: all new datasets are located at: /home/racer_core/Datasets/"
   ]
  },
  {
   "cell_type": "code",
   "execution_count": 9,
   "metadata": {},
   "outputs": [
    {
     "data": {
      "application/vnd.jupyter.widget-view+json": {
       "model_id": "f2c1c85be47c4768aee309d9a3e01a50",
       "version_major": 2,
       "version_minor": 0
      },
      "text/plain": [
       "VBox(children=(Label(value='**** [ACTION REQUIRED] **** Fill in all three boxes then press button.'), VBox(chi…"
      ]
     },
     "metadata": {},
     "output_type": "display_data"
    }
   ],
   "source": [
    "### Creating the graphical user interface for creating our data folder in the data destination folder\n",
    "# Creating a text box, a button, and connecting the two with a callback function.\n",
    "\n",
    "# User selected data destination folder:\n",
    "user_selected_data_destination_folder =  \"/home/racer_core/Datasets/\"# The path selected earlier\n",
    "new_directory = \"\" # for storing the newly created directory where we'll store our data\n",
    "\n",
    "folder_button = widgets.Button(\n",
    "    description=' Press to Create New Dataset Folder!',\n",
    "    button_style= 'success', #, 'info', 'warning', 'danger' or ''\n",
    "    tooltip='Press to Create Folder!',\n",
    "    icon='folder-plus', # (FontAwesome names without the `fa-` prefix)\n",
    "    layout=button_layout,\n",
    "    style = dict(   font_size='18px', font_weight='bold', font_variant=\"small-caps\"))\n",
    "\n",
    "folder_label = widgets.Text(value='Enter Name for New Dataset Folder', disabled=False)\n",
    "author_label = widgets.Text(value='Enter Name of Student Creating Dataset', disabled=False)\n",
    "description_label = widgets.Text(value='Enter short description of dataset', disabled=False)\n",
    "label_set_VBox = widgets.VBox([folder_label, author_label, description_label])\n",
    "\n",
    "# Writes user supplied dataset information to the dataset_log.txt file in the master datasets folder\n",
    "def write_dataset_log(folder_label, author_label, description_label):\n",
    "    f = open(DATASETS_DIR + \"dataset_log.txt\", \"a\")\n",
    "    f.write(\"\\n\")\n",
    "    date_time = datetime.now()\n",
    "    dt_string = date_time.strftime(\"%m/%d/%Y %H:%M:%S\")\n",
    "    f.write(f\"Dataset Record: {dt_string} \\n\")\n",
    "    f.write(f\"Dataset Name: {folder_label}, Author: {author_label}\\n\")\n",
    "    f.write(f\"Dataset Description: {description_label}\\n\")\n",
    "    f.write(\"\\n\")\n",
    "    f.close()\n",
    "    \n",
    "\n",
    "def folder_button_callback(b):\n",
    "    global new_directory\n",
    "\n",
    "    new_directory = DATASETS_DIR + folder_label.value + \"/\"\n",
    "    dirExist = os.path.exists(new_directory)\n",
    "    if not dirExist:\n",
    "        os.makedirs(new_directory)\n",
    "        folder_button.description = \" Folder Created!\"\n",
    "        write_dataset_log(folder_label.value, author_label.value, description_label.value)\n",
    "        folder_button.disabled = True\n",
    "    else:\n",
    "        folder_button.description = \" Folder Exists Already!\"\n",
    "        time.sleep(4)\n",
    "        folder_button.description = \" Press to Create New Dataset Folder!\"\n",
    "\n",
    "folder_button.on_click(folder_button_callback)\n",
    "instructions_01 = widgets.Label(value=str(\"**** [ACTION REQUIRED] **** Fill in all three boxes then press button.\"))\n",
    "\n",
    "Box = widgets.VBox([instructions_01, label_set_VBox,folder_button])\n",
    "display(Box)"
   ]
  },
  {
   "cell_type": "markdown",
   "metadata": {},
   "source": [
    "### Setting up the RepeatedTimer:\n",
    "\n",
    "Next we'll finish camera setup and create a class for a RepeatedTimer object. This object will be useful in repeatedly collecting images as we drive the jetracer.\n",
    "\n",
    "This class has a self, run, start, and stop functions.\n",
    "\n",
    "The inputs to this class are: the interval, the function to be repeated, and any inputs to that function\n",
    "\n",
    "Additionally, we'll create a custom fucntion called, \"save_snapshot\" that will collect an image with the camera and save it to the new folder.\n",
    "Since we don't want to manually name each image we collect, we'll use the ``uuid`` package in python, which defines the ``uuid1`` method to generate\n",
    "a unique identifier.  This unique identifier is generated from information like the current time and the machine address. \n",
    "\n",
    "We go through this complicated process so that we never create two files with the same name."
   ]
  },
  {
   "cell_type": "code",
   "execution_count": 10,
   "metadata": {},
   "outputs": [],
   "source": [
    "# Camera setup\n",
    "image = ipywidgets.Image(format='jpeg', width=camera.width, height=camera.height)\n",
    "labeled_image = widgets.Image(format='jpeg', width=224, height=224)  # this width and height doesn't necessarily have to match the camera\n",
    "camera_link = traitlets.dlink((camera, 'value'), (image, 'value'), transform=bgr8_to_jpeg)\n",
    "\n",
    "########## DATA COLLECTION INTERVAL #################\n",
    "# Adjust this variable if you would like to collect data at a slower rate\n",
    "interval = 0.1\n",
    "\n",
    "### CUSTOM CLASS: RepeatedTimer - we create a custom class so that we can genreate a RepeatedTimer object to perform automated data collection\n",
    "class RepeatedTimer(object):\n",
    "    def __init__(self, interval, function, set_size, *args, **kwargs):\n",
    "        self._timer     = None\n",
    "        self.interval   = interval\n",
    "        self.function   = function\n",
    "        self.index      = 0\n",
    "        self.set_size   = set_size\n",
    "        self.args       = args\n",
    "        self.kwargs     = kwargs\n",
    "        self.is_running = False\n",
    "        self.start()\n",
    "\n",
    "    def _run(self):\n",
    "        # While running, check against desired set_size, stop when set size is reached\n",
    "        self.index = self.index + 1\n",
    "        if self.index <= self.set_size:\n",
    "            self.is_running = False\n",
    "            self.start()\n",
    "            self.function(*self.args, **self.kwargs)\n",
    "        else:\n",
    "            #self._time.cancel()\n",
    "            self.is_running = False\n",
    "            \n",
    "    def start(self):\n",
    "        if not self.is_running:\n",
    "            self._timer = Timer(self.interval, self._run)\n",
    "            self._timer.start()\n",
    "            self.is_running = True\n",
    "\n",
    "    def stop(self):\n",
    "        self._timer.cancel()\n",
    "        self.is_running = False\n",
    "###### END OF CUSTOM CLASS ############\n",
    "\n",
    "#### User Defined Function: save_snapshot: collects an image and saves the image when called ####\n",
    "###       Extra: This function uses the current position of the gamepad steering stick to automatically add a label to the image\n",
    "###       Extra pt. 2: This function stores the label within the name of the new file as it saves it with a unique name and number.\n",
    "def save_snapshot():\n",
    "    global image_count\n",
    "    index = image_count.value = len(os.listdir(new_directory))\n",
    "    \n",
    "    # Our new labels come from the vehicle command values at the time the information was collected\n",
    "    # This includes the steering position\n",
    "    # Steering will be converted from the steering range to position in the image so we can visualize steering input.\n",
    "    steering_bias = 0 # Center of the image is about 10 pixels from where the steering showes center\n",
    "    \n",
    "    steering_label = data_label_textbox.value\n",
    "\n",
    "    # Create a new filename with the coordinates appended, then save the file in the new directory.\n",
    "    uuid = '%03d_%03d_%04d_%s' % (steering_label, throttle_label,index, uuid1()) #uuid(1) creates a unique string each time it's called\n",
    "    image_path = os.path.join(new_directory, uuid + '.jpg') # Building the path & filename for the new labeled data point\n",
    "    label_vis.value = steering_label\n",
    "    with open(image_path, 'wb') as f:\n",
    "        f.write(image.value) # camera.value for csi camera, image.value for jetcam"
   ]
  },
  {
   "cell_type": "markdown",
   "metadata": {},
   "source": [
    "So far we have:\n",
    "- [x] Setup the car() object for steering and throttle control\n",
    "- [x] Connected and tested the gamepad\n",
    "- [x] Created Callback functions to connect the gamepad with vehicle control\n",
    "- [x] Created a new folder to hold our new dataset\n",
    "- [x] Created an interval timer and save_snapshot function to automate data collection w/ labels!\n",
    "d.\n",
    "\n",
    "Next we'll start the data collection. As we manually drive our AI racer, we're creating the data that we'll use to train our racer's AI pilot.\n",
    "1. The data should depict excellent driving. So when collecting data, it is critically important to drive perfectly!\n",
    "2. We need lots of data! 20,000 data points is a good goal to reach for!"
   ]
  },
  {
   "cell_type": "markdown",
   "metadata": {},
   "source": [
    "The next cell finishes the camera setup and user interface."
   ]
  },
  {
   "cell_type": "code",
   "execution_count": 11,
   "metadata": {},
   "outputs": [
    {
     "data": {
      "application/vnd.jupyter.widget-view+json": {
       "model_id": "eebde5f5ff4c4b2babc09eb329f4ffe7",
       "version_major": 2,
       "version_minor": 0
      },
      "text/plain": [
       "Image(value=b'\\xff\\xd8\\xff\\xe0\\x00\\x10JFIF\\x00\\x01\\x01\\x00\\x00\\x01\\x00\\x01\\x00\\x00\\xff\\xdb\\x00C\\x00\\x02\\x01\\x0…"
      ]
     },
     "metadata": {},
     "output_type": "display_data"
    },
    {
     "data": {
      "application/vnd.jupyter.widget-view+json": {
       "model_id": "df7b7166468d4b38bce7c48c04eab6cd",
       "version_major": 2,
       "version_minor": 0
      },
      "text/plain": [
       "FloatSlider(value=0.0, description='Label Viz:', max=224.0, step=0.001)"
      ]
     },
     "metadata": {},
     "output_type": "display_data"
    },
    {
     "data": {
      "application/vnd.jupyter.widget-view+json": {
       "model_id": "68039c79d1c24f45b30ba1e642b8edef",
       "version_major": 2,
       "version_minor": 0
      },
      "text/plain": [
       "HBox(children=(IntText(value=0, continuous_update=True, layout=Layout(height='64px', width='128px')), Button(b…"
      ]
     },
     "metadata": {},
     "output_type": "display_data"
    }
   ],
   "source": [
    "# Button creation and widget layout\n",
    "button_layout = widgets.Layout(width='128px', height='64px')\n",
    "# Buttons to controll data collection\n",
    "start_button = widgets.Button(description='Start Collection', button_style='success', layout=button_layout)\n",
    "stop_button = widgets.Button(description='Stop Collection', button_style='danger', layout=button_layout)\n",
    "# image_count is used to display the number of images in the folder\n",
    "image_count = widgets.IntText(layout=button_layout,continuous_update=True, value=len(os.listdir(new_directory)))\n",
    "\n",
    "\n",
    "    \n",
    "# attach the callbacks, we use a 'lambda' function to ignore the\n",
    "# parameter that the on_click event would provide to our function\n",
    "# because we don't need it.\n",
    "start_button.on_click(lambda x: rt.start())\n",
    "stop_button.on_click(lambda x: rt.stop())\n",
    "\n",
    "# Testing set_size collection\n",
    "set_size = 10000\n",
    "# Setup of the repeated timer to handle data collection\n",
    "rt = RepeatedTimer(interval, save_snapshot,set_size) # it auto-starts, no need of rt.start()\n",
    "rt.stop()\n",
    "\n",
    "# User Interface\n",
    "top_half_display = widgets.HBox([image, labeled_image])\n",
    "display(image)\n",
    "display(label_vis)\n",
    "display(widgets.HBox([image_count, start_button, stop_button]))"
   ]
  },
  {
   "cell_type": "code",
   "execution_count": null,
   "metadata": {},
   "outputs": [],
   "source": []
  }
 ],
 "metadata": {
  "interpreter": {
   "hash": "e2313c7804ff011807c650ac789c81fd46d39f1391f2abc612040a850db50565"
  },
  "kernelspec": {
   "display_name": "Python 3 (ipykernel)",
   "language": "python",
   "name": "python3"
  },
  "language_info": {
   "codemirror_mode": {
    "name": "ipython",
    "version": 3
   },
   "file_extension": ".py",
   "mimetype": "text/x-python",
   "name": "python",
   "nbconvert_exporter": "python",
   "pygments_lexer": "ipython3",
   "version": "3.10.12"
  }
 },
 "nbformat": 4,
 "nbformat_minor": 4
}
